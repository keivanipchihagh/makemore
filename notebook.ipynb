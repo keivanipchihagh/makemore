{
 "cells": [
  {
   "cell_type": "code",
   "execution_count": 82,
   "metadata": {},
   "outputs": [],
   "source": [
    "import torch\n",
    "import torch.nn.functional as F\n",
    "from typing import List, Dict, Tuple\n",
    "from matplotlib import pyplot as plt"
   ]
  },
  {
   "cell_type": "code",
   "execution_count": 2,
   "metadata": {},
   "outputs": [
    {
     "data": {
      "text/plain": [
       "['emma', 'olivia', 'ava', 'isabella', 'sophia']"
      ]
     },
     "execution_count": 2,
     "metadata": {},
     "output_type": "execute_result"
    }
   ],
   "source": [
    "# Read file\n",
    "words: List[str] = []\n",
    "with open('names.txt', 'r') as file:\n",
    "    words = file.read().splitlines()\n",
    "words[:5]"
   ]
  },
  {
   "cell_type": "code",
   "execution_count": 41,
   "metadata": {},
   "outputs": [],
   "source": [
    "# Create lookups\n",
    "chars: List[str] = sorted(list(set(''.join(words))))\n",
    "chars.extend(['.'])\n",
    "\n",
    "n_chars = len(chars)\n",
    "\n",
    "stoi: Dict[str, int] = {s:i for i,s in enumerate(chars)}\n",
    "itos: Dict[int, str] = {i:s for s, i in stoi.items()}"
   ]
  },
  {
   "cell_type": "code",
   "execution_count": 4,
   "metadata": {},
   "outputs": [],
   "source": [
    "# Create bigram with dictionary\n",
    "bigrams: Dict[tuple, int] = {}\n",
    "for word in words:\n",
    "    chs = ['.'] + list(word) + ['.']\n",
    "    for ch1, ch2 in zip(chs, chs[1:]):\n",
    "        bigram = (ch1, ch2)\n",
    "        bigrams[bigram] = bigrams.get(bigram, 0) + 1"
   ]
  },
  {
   "cell_type": "code",
   "execution_count": 5,
   "metadata": {},
   "outputs": [],
   "source": [
    "# Create bigram with matrix\n",
    "N = torch.zeros((n_chars, n_chars), dtype=torch.int32)\n",
    "\n",
    "for word in words:\n",
    "    chs = ['.'] + list(word) + ['.']\n",
    "    for ch1, ch2 in zip(chs, chs[1:]):\n",
    "        inx1 = stoi[ch1]\n",
    "        inx2 = stoi[ch2]\n",
    "        N[inx1, inx2] += 1"
   ]
  },
  {
   "cell_type": "code",
   "execution_count": 60,
   "metadata": {},
   "outputs": [
    {
     "data": {
      "text/plain": [
       "1.0"
      ]
     },
     "execution_count": 60,
     "metadata": {},
     "output_type": "execute_result"
    }
   ],
   "source": [
    "# Efficiency\n",
    "N = N + 1 # Model smoothing\n",
    "P = N.float()\n",
    "P = P / P.sum(dim=1, keepdim=True)\n",
    "P[0].sum().item()"
   ]
  },
  {
   "cell_type": "code",
   "execution_count": 61,
   "metadata": {},
   "outputs": [
    {
     "name": "stdout",
     "output_type": "stream",
     "text": [
      "na.\n",
      "kenen.\n",
      "lyri.\n",
      "iva.\n",
      "rri.\n"
     ]
    }
   ],
   "source": [
    "gen = torch.Generator().manual_seed(2147483647)\n",
    "\n",
    "for _ in range(5):\n",
    "    inx: int = 0\n",
    "    out: List[str] = []\n",
    "\n",
    "    while True:\n",
    "        p = P[inx]\n",
    "        inx = torch.multinomial(p, num_samples=1, replacement=True, generator=gen).item()\n",
    "        char = itos[inx]\n",
    "        out.append(char)\n",
    "\n",
    "        if char == '.':\n",
    "            break\n",
    "\n",
    "    print(''.join(out))"
   ]
  },
  {
   "cell_type": "code",
   "execution_count": 65,
   "metadata": {},
   "outputs": [
    {
     "name": "stdout",
     "output_type": "stream",
     "text": [
      "negative_avg_log_likelihood=2.454\n"
     ]
    }
   ],
   "source": [
    "# Loss function\n",
    "log_likelihood: float = 0.0\n",
    "count: int = 0\n",
    "\n",
    "for word in words:\n",
    "# for word in [\"keivan\"]:\n",
    "    chs = ['.'] + list(word) + ['.']\n",
    "    for ch1, ch2 in zip(chs, chs[1:]):\n",
    "        inx1 = stoi[ch1]\n",
    "        inx2 = stoi[ch2]\n",
    "        prob = P[inx1, inx2]         # Bigram probability\n",
    "        log_pob = torch.log(prob)    # Bigram log probability\n",
    "        log_likelihood += log_pob    # Log likelihood\n",
    "        count += 1\n",
    "\n",
    "avg_log_likelihood = log_likelihood / count\n",
    "negative_avg_log_likelihood = -avg_log_likelihood\n",
    "print(f\"{negative_avg_log_likelihood=:.4}\")"
   ]
  },
  {
   "cell_type": "code",
   "execution_count": 70,
   "metadata": {},
   "outputs": [],
   "source": [
    "# Create bigram dataset (x, y)\n",
    "xs, ys = [], []\n",
    "\n",
    "for word in words:\n",
    "    chs = ['.'] + list(word) + ['.']\n",
    "    for ch1, ch2 in zip(chs, chs[1:]):\n",
    "        inx1 = stoi[ch1]\n",
    "        inx2 = stoi[ch2]\n",
    "        xs.append(inx1)\n",
    "        ys.append(inx2)\n",
    "\n",
    "xs = torch.tensor(xs)\n",
    "ys = torch.tensor(ys)"
   ]
  },
  {
   "cell_type": "code",
   "execution_count": 87,
   "metadata": {},
   "outputs": [],
   "source": [
    "xenc = F.one_hot(xs, num_classes=n_chars).float()\n",
    "yenc = F.one_hot(ys, num_classes=n_chars).float()"
   ]
  },
  {
   "cell_type": "code",
   "execution_count": 96,
   "metadata": {},
   "outputs": [],
   "source": [
    "W = torch.randn((27, 27))"
   ]
  },
  {
   "cell_type": "code",
   "execution_count": 104,
   "metadata": {},
   "outputs": [],
   "source": [
    "logits = xenc @ W       # log counts\n",
    "counts = logits.exp()   # equavalent N\n",
    "probs = counts / counts.sum(dim=1, keepdim=True) # softmax"
   ]
  },
  {
   "cell_type": "code",
   "execution_count": 103,
   "metadata": {},
   "outputs": [
    {
     "data": {
      "text/plain": [
       "tensor(1.0000)"
      ]
     },
     "execution_count": 103,
     "metadata": {},
     "output_type": "execute_result"
    }
   ],
   "source": [
    "probs[0].sum()"
   ]
  }
 ],
 "metadata": {
  "kernelspec": {
   "display_name": "venv",
   "language": "python",
   "name": "python3"
  },
  "language_info": {
   "codemirror_mode": {
    "name": "ipython",
    "version": 3
   },
   "file_extension": ".py",
   "mimetype": "text/x-python",
   "name": "python",
   "nbconvert_exporter": "python",
   "pygments_lexer": "ipython3",
   "version": "3.10.12"
  }
 },
 "nbformat": 4,
 "nbformat_minor": 2
}
